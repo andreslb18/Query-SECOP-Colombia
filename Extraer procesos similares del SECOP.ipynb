{
 "cells": [
  {
   "cell_type": "markdown",
   "metadata": {},
   "source": [
    "# **Búsqueda de procesos de contratación en SECOP**\n",
    "**DIES**"
   ]
  },
  {
   "cell_type": "markdown",
   "metadata": {},
   "source": [
    "Esl objetivo de este código es poder simplificar la búsqueda de procesos en el SECOP para el estudio de mercado.\n",
    "Primero hay que asegurarnos de tener los paquetes necesarios. Para esto se deben instalar los siguiente spaquetes en el anaconda promp:\n",
    "- conda install sodapy"
   ]
  },
  {
   "cell_type": "markdown",
   "metadata": {},
   "source": [
    "# Paso 1: cargar paquetes necesarios"
   ]
  },
  {
   "cell_type": "code",
   "execution_count": 1,
   "metadata": {},
   "outputs": [],
   "source": [
    "import pandas as pd\n",
    "from sodapy import Socrata\n",
    "import os"
   ]
  },
  {
   "cell_type": "markdown",
   "metadata": {},
   "source": [
    "# Paso 2: definir el directorio de trabajo\n",
    "Copiar y pegar la url del directorio de trabajo"
   ]
  },
  {
   "cell_type": "code",
   "execution_count": 27,
   "metadata": {},
   "outputs": [],
   "source": [
    "os.chdir(r\"H:\\DNP\")"
   ]
  },
  {
   "cell_type": "markdown",
   "metadata": {},
   "source": [
    "# Primera opción para bajar la base del secop -API\n",
    "El SECOP permite hacer el descargue automático de las bases. Para esto se debe llamar una API. Puede que la memoria del computador no sea suficiente para descargar toda la base, el SECOP tiene más de 4 millones de procesos\n",
    "\n",
    "Para conectarse a la API y bajar toda la base se debe correr el siguente código"
   ]
  },
  {
   "cell_type": "code",
   "execution_count": 58,
   "metadata": {},
   "outputs": [
    {
     "name": "stderr",
     "output_type": "stream",
     "text": [
      "WARNING:root:Requests made without an app_token will be subject to strict throttling limits.\n"
     ]
    }
   ],
   "source": [
    "client = Socrata(\"www.datos.gov.co\", None)\n",
    "\n",
    "results = client.get(\"rpmr-utcd\", where = \"valor_contrato between 600000000 and 2500000000\",\n",
    "                    limit=1000000)\n",
    "\n",
    "secop = pd.DataFrame.from_records(results)"
   ]
  },
  {
   "cell_type": "code",
   "execution_count": null,
   "metadata": {},
   "outputs": [],
   "source": [
    "#results = client.get(\"rpmr-utcd\",where = tipo_de_contrato = 'Consultoría', \"valor_contrato > 600000000\",\n",
    "                     #limit=100000)\n",
    "#tipo_de_contrato = 'Consultoría'\n",
    "# Convert to pandas DataFrame"
   ]
  },
  {
   "cell_type": "code",
   "execution_count": 60,
   "metadata": {},
   "outputs": [
    {
     "data": {
      "text/plain": [
       "(127722, 13)"
      ]
     },
     "execution_count": 60,
     "metadata": {},
     "output_type": "execute_result"
    }
   ],
   "source": [
    "secop.shape"
   ]
  },
  {
   "cell_type": "markdown",
   "metadata": {},
   "source": [
    "# Segunda opción para bajar la base del secop -Descarga de datos\n",
    "La segunda opción consiste en descargarse labase de datos. Para esto se debe acceder a este link y elegir exportar en csv\n",
    "\n",
    "https://www.datos.gov.co/Gastos-Gubernamentales/SECOP-Integrado/rpmr-utcd"
   ]
  },
  {
   "cell_type": "markdown",
   "metadata": {},
   "source": [
    "Para cargar la base hay que correr este código. **Guarden la base en el directorio del paso 2**"
   ]
  },
  {
   "cell_type": "code",
   "execution_count": null,
   "metadata": {},
   "outputs": [],
   "source": [
    "secop= pd.read_csv('SECOP_Integrado.csv')"
   ]
  },
  {
   "cell_type": "markdown",
   "metadata": {},
   "source": [
    "Se pueden consultar los nombre de las columnas de la tabla así"
   ]
  },
  {
   "cell_type": "code",
   "execution_count": 3,
   "metadata": {},
   "outputs": [
    {
     "data": {
      "text/plain": [
       "Index(['estado_del_proceso', 'fecha_de_firma_del_contrato',\n",
       "       'modalidad_de_contrataci_n', 'nit_de_la_entidad', 'nivel_entidad',\n",
       "       'nom_raz_social_contratista', 'nombre_de_la_entidad',\n",
       "       'numero_de_proceso', 'numero_del_contrato', 'objeto_a_contratar',\n",
       "       'tipo_de_contrato', 'url_contrato', 'valor_contrato'],\n",
       "      dtype='object')"
      ]
     },
     "execution_count": 3,
     "metadata": {},
     "output_type": "execute_result"
    }
   ],
   "source": [
    "secop.columns"
   ]
  },
  {
   "cell_type": "code",
   "execution_count": 39,
   "metadata": {},
   "outputs": [
    {
     "data": {
      "text/plain": [
       "Prestación de Servicios       30864\n",
       "Otro Tipo de Contrato         26841\n",
       "Obra                          24596\n",
       "Suministro                     7663\n",
       "Compraventa                    6172\n",
       "Otro                           5638\n",
       "Prestación de servicios        3739\n",
       "Consultoría                    3014\n",
       "Interventoría                  2676\n",
       "Suministros                    1360\n",
       "Arrendamiento                   896\n",
       "Crédito                         837\n",
       "Concesión                       576\n",
       "DecreeLaw092/2017               543\n",
       "Arrendamiento de inmuebles      256\n",
       "Comodato                        159\n",
       "Seguros                         155\n",
       "Acuerdo Marco                   135\n",
       "Fiducia                          66\n",
       "Asociación Público Privada       61\n",
       "Acuerdo Marco de Precios         28\n",
       "No definido                      15\n",
       "Venta muebles                    15\n",
       "Arrendamiento de muebles         13\n",
       "Servicios financieros            11\n",
       "Negocio fiduciario                6\n",
       "Comisión                          4\n",
       "Emprestito                        3\n",
       "Acuerdo de cooperación            3\n",
       "Venta inmuebles                   2\n",
       "Agregación de Demanda             2\n",
       "No Especificado                   1\n",
       "Name: tipo_de_contrato, dtype: int64"
      ]
     },
     "execution_count": 39,
     "metadata": {},
     "output_type": "execute_result"
    }
   ],
   "source": [
    "secop['tipo_de_contrato'].value_counts()"
   ]
  },
  {
   "cell_type": "code",
   "execution_count": 9,
   "metadata": {},
   "outputs": [
    {
     "data": {
      "text/html": [
       "<div>\n",
       "<style scoped>\n",
       "    .dataframe tbody tr th:only-of-type {\n",
       "        vertical-align: middle;\n",
       "    }\n",
       "\n",
       "    .dataframe tbody tr th {\n",
       "        vertical-align: top;\n",
       "    }\n",
       "\n",
       "    .dataframe thead th {\n",
       "        text-align: right;\n",
       "    }\n",
       "</style>\n",
       "<table border=\"1\" class=\"dataframe\">\n",
       "  <thead>\n",
       "    <tr style=\"text-align: right;\">\n",
       "      <th></th>\n",
       "      <th>estado_del_proceso</th>\n",
       "      <th>fecha_de_firma_del_contrato</th>\n",
       "      <th>modalidad_de_contrataci_n</th>\n",
       "      <th>nit_de_la_entidad</th>\n",
       "      <th>nivel_entidad</th>\n",
       "      <th>nom_raz_social_contratista</th>\n",
       "      <th>nombre_de_la_entidad</th>\n",
       "      <th>numero_de_proceso</th>\n",
       "      <th>numero_del_contrato</th>\n",
       "      <th>objeto_a_contratar</th>\n",
       "      <th>tipo_de_contrato</th>\n",
       "      <th>url_contrato</th>\n",
       "      <th>valor_contrato</th>\n",
       "    </tr>\n",
       "  </thead>\n",
       "  <tbody>\n",
       "    <tr>\n",
       "      <th>0</th>\n",
       "      <td>Adjudicado</td>\n",
       "      <td>NaN</td>\n",
       "      <td>Estatuto General de Contratación</td>\n",
       "      <td>800255214</td>\n",
       "      <td>TERRITORIAL</td>\n",
       "      <td>No Definido</td>\n",
       "      <td>BOLÍVAR - ALCALDÍA MUNICIPIO DE HATILLO DE LOBA</td>\n",
       "      <td>21-15-11583405</td>\n",
       "      <td>No definido</td>\n",
       "      <td>Servicios Basados en Ingeniería  Investigación...</td>\n",
       "      <td>Consultoría</td>\n",
       "      <td>https://www.contratos.gov.co/consultas/detalle...</td>\n",
       "      <td>0</td>\n",
       "    </tr>\n",
       "    <tr>\n",
       "      <th>1</th>\n",
       "      <td>Convocado</td>\n",
       "      <td>NaN</td>\n",
       "      <td>Estatuto General de Contratación</td>\n",
       "      <td>892170008</td>\n",
       "      <td>TERRITORIAL</td>\n",
       "      <td>No Definido</td>\n",
       "      <td>LA GUAJIRA - ALCALDÍA MUNICIPIO DE FONSECA</td>\n",
       "      <td>21-13-11689933</td>\n",
       "      <td>No definido</td>\n",
       "      <td>Servicios de Gestion  Servicios Profesionales ...</td>\n",
       "      <td>Consultoría</td>\n",
       "      <td>https://www.contratos.gov.co/consultas/detalle...</td>\n",
       "      <td>0</td>\n",
       "    </tr>\n",
       "    <tr>\n",
       "      <th>2</th>\n",
       "      <td>Liquidado</td>\n",
       "      <td>2020-03-11T00:00:00.000</td>\n",
       "      <td>Estatuto General de Contratación</td>\n",
       "      <td>800099090</td>\n",
       "      <td>TERRITORIAL</td>\n",
       "      <td>FUNDACION PRODECOL</td>\n",
       "      <td>NARIÑO - ALCALDÍA MUNICIPIO DE GUAITARILLA</td>\n",
       "      <td>20-13-10540943</td>\n",
       "      <td>CM 0232020</td>\n",
       "      <td>Servicios de Gestion  Servicios Profesionales ...</td>\n",
       "      <td>Consultoría</td>\n",
       "      <td>https://www.contratos.gov.co/consultas/detalle...</td>\n",
       "      <td>20000000</td>\n",
       "    </tr>\n",
       "    <tr>\n",
       "      <th>3</th>\n",
       "      <td>Celebrado</td>\n",
       "      <td>2021-02-15T00:00:00.000</td>\n",
       "      <td>Régimen Especial</td>\n",
       "      <td>805027287</td>\n",
       "      <td>TERRITORIAL</td>\n",
       "      <td>G &amp; S INTERVENTORES S.A.S</td>\n",
       "      <td>VALLE DEL CAUCA - E.S.E. RED DE SALUD DEL NORT...</td>\n",
       "      <td>21-4-11694389</td>\n",
       "      <td>1.5.11.001.2021</td>\n",
       "      <td>Servicios de Gestion  Servicios Profesionales ...</td>\n",
       "      <td>Consultoría</td>\n",
       "      <td>https://www.contratos.gov.co/consultas/detalle...</td>\n",
       "      <td>6800000</td>\n",
       "    </tr>\n",
       "    <tr>\n",
       "      <th>4</th>\n",
       "      <td>Celebrado</td>\n",
       "      <td>2021-02-16T00:00:00.000</td>\n",
       "      <td>Estatuto General de Contratación</td>\n",
       "      <td>890983763-8</td>\n",
       "      <td>TERRITORIAL</td>\n",
       "      <td>AGENCIA DE SEGUROS ZURE SOCIEDAD LIMITADA</td>\n",
       "      <td>QUINDÍO - CONCEJO MUNICIPIO DE ARMENIA</td>\n",
       "      <td>21-15-11583531</td>\n",
       "      <td>001 DE 2021</td>\n",
       "      <td>Servicios Financieros y de Seguros</td>\n",
       "      <td>Consultoría</td>\n",
       "      <td>https://www.contratos.gov.co/consultas/detalle...</td>\n",
       "      <td>0</td>\n",
       "    </tr>\n",
       "  </tbody>\n",
       "</table>\n",
       "</div>"
      ],
      "text/plain": [
       "  estado_del_proceso fecha_de_firma_del_contrato  \\\n",
       "0         Adjudicado                         NaN   \n",
       "1          Convocado                         NaN   \n",
       "2          Liquidado     2020-03-11T00:00:00.000   \n",
       "3          Celebrado     2021-02-15T00:00:00.000   \n",
       "4          Celebrado     2021-02-16T00:00:00.000   \n",
       "\n",
       "          modalidad_de_contrataci_n nit_de_la_entidad nivel_entidad  \\\n",
       "0  Estatuto General de Contratación         800255214   TERRITORIAL   \n",
       "1  Estatuto General de Contratación         892170008   TERRITORIAL   \n",
       "2  Estatuto General de Contratación         800099090   TERRITORIAL   \n",
       "3                  Régimen Especial         805027287   TERRITORIAL   \n",
       "4  Estatuto General de Contratación       890983763-8   TERRITORIAL   \n",
       "\n",
       "                  nom_raz_social_contratista  \\\n",
       "0                                No Definido   \n",
       "1                                No Definido   \n",
       "2                         FUNDACION PRODECOL   \n",
       "3                  G & S INTERVENTORES S.A.S   \n",
       "4  AGENCIA DE SEGUROS ZURE SOCIEDAD LIMITADA   \n",
       "\n",
       "                                nombre_de_la_entidad numero_de_proceso  \\\n",
       "0    BOLÍVAR - ALCALDÍA MUNICIPIO DE HATILLO DE LOBA    21-15-11583405   \n",
       "1         LA GUAJIRA - ALCALDÍA MUNICIPIO DE FONSECA    21-13-11689933   \n",
       "2         NARIÑO - ALCALDÍA MUNICIPIO DE GUAITARILLA    20-13-10540943   \n",
       "3  VALLE DEL CAUCA - E.S.E. RED DE SALUD DEL NORT...     21-4-11694389   \n",
       "4             QUINDÍO - CONCEJO MUNICIPIO DE ARMENIA    21-15-11583531   \n",
       "\n",
       "  numero_del_contrato                                 objeto_a_contratar  \\\n",
       "0         No definido  Servicios Basados en Ingeniería  Investigación...   \n",
       "1         No definido  Servicios de Gestion  Servicios Profesionales ...   \n",
       "2          CM 0232020  Servicios de Gestion  Servicios Profesionales ...   \n",
       "3     1.5.11.001.2021  Servicios de Gestion  Servicios Profesionales ...   \n",
       "4         001 DE 2021                 Servicios Financieros y de Seguros   \n",
       "\n",
       "  tipo_de_contrato                                       url_contrato  \\\n",
       "0      Consultoría  https://www.contratos.gov.co/consultas/detalle...   \n",
       "1      Consultoría  https://www.contratos.gov.co/consultas/detalle...   \n",
       "2      Consultoría  https://www.contratos.gov.co/consultas/detalle...   \n",
       "3      Consultoría  https://www.contratos.gov.co/consultas/detalle...   \n",
       "4      Consultoría  https://www.contratos.gov.co/consultas/detalle...   \n",
       "\n",
       "  valor_contrato  \n",
       "0              0  \n",
       "1              0  \n",
       "2       20000000  \n",
       "3        6800000  \n",
       "4              0  "
      ]
     },
     "execution_count": 9,
     "metadata": {},
     "output_type": "execute_result"
    }
   ],
   "source": [
    "secop.head()"
   ]
  },
  {
   "cell_type": "markdown",
   "metadata": {},
   "source": [
    "# Paso 3: hacer una subsección de la base con base en palabras claves\n",
    "Se debe correr este código incluyendo las palabras claves que se requieren. Se puede eligir un fragmento de la palabra para evitar perder opservaciones por falta de tildes\n",
    "Si es sólo una palabra clave correr este código"
   ]
  },
  {
   "cell_type": "code",
   "execution_count": 16,
   "metadata": {},
   "outputs": [],
   "source": [
    "procesos_similares = secop[secop['Objeto a Contratar'].str.contains('valledupar')]"
   ]
  },
  {
   "cell_type": "markdown",
   "metadata": {},
   "source": [
    "Si queremos dos o más palabras claves correr este código"
   ]
  },
  {
   "cell_type": "code",
   "execution_count": 61,
   "metadata": {},
   "outputs": [],
   "source": [
    "#API\n",
    "secop['objeto_a_contratar']=secop['objeto_a_contratar'].str.lower()"
   ]
  },
  {
   "cell_type": "code",
   "execution_count": 62,
   "metadata": {},
   "outputs": [],
   "source": [
    "procesos_similares = secop[(secop['objeto_a_contratar'].str.contains('plan')) & \n",
    "                          (secop['objeto_a_contratar'].str.contains('maestro'))]"
   ]
  },
  {
   "cell_type": "code",
   "execution_count": 5,
   "metadata": {},
   "outputs": [],
   "source": [
    "secop['Objeto a Contratar']=secop['Objeto a Contratar'].str.lower()"
   ]
  },
  {
   "cell_type": "code",
   "execution_count": 14,
   "metadata": {},
   "outputs": [],
   "source": [
    "procesos_similares = secop[(secop['Objeto a Contratar'].str.contains('plan')) & \n",
    "                          (secop['Objeto a Contratar'].str.contains('vial'))]"
   ]
  },
  {
   "cell_type": "code",
   "execution_count": 39,
   "metadata": {},
   "outputs": [],
   "source": [
    "#procesos_similares = secop[secop['Objeto a Contratar'].str.contains('lan | aestro | ovilidad')]"
   ]
  },
  {
   "cell_type": "code",
   "execution_count": 63,
   "metadata": {},
   "outputs": [
    {
     "data": {
      "text/plain": [
       "(33, 13)"
      ]
     },
     "execution_count": 63,
     "metadata": {},
     "output_type": "execute_result"
    }
   ],
   "source": [
    "procesos_similares.shape "
   ]
  },
  {
   "cell_type": "markdown",
   "metadata": {},
   "source": [
    "# Paso 4: elegir los procesos que se ajustan al presupuesto\n",
    "Se debe cambiar el valor después de > para elegir sólo los contratos por encima de ese valor"
   ]
  },
  {
   "cell_type": "code",
   "execution_count": 11,
   "metadata": {},
   "outputs": [],
   "source": [
    "procesos_similares = procesos_similares[(procesos_similares['Valor Contrato']>600000000) & (procesos_similares['Valor Contrato']<2000000000)]"
   ]
  },
  {
   "cell_type": "code",
   "execution_count": 15,
   "metadata": {},
   "outputs": [],
   "source": [
    "procesos_similares = procesos_similares[procesos_similares['Valor Contrato']>600000000]"
   ]
  },
  {
   "cell_type": "markdown",
   "metadata": {},
   "source": [
    "# Paso 5 (pcional): elegir el tipo de contrato\n",
    "Se puede filtrar aún más la base por tiepo de contrato como consultoría, prestación servicios, ect. Para revisar los tipos de contrato se debe correr este códio"
   ]
  },
  {
   "cell_type": "code",
   "execution_count": 10,
   "metadata": {},
   "outputs": [
    {
     "data": {
      "text/plain": [
       "Interventoría              22\n",
       "Otro                       14\n",
       "Prestación de servicios     7\n",
       "Consultoría                 6\n",
       "Obra                        2\n",
       "DecreeLaw092/2017           1\n",
       "Name: Tipo de Contrato, dtype: int64"
      ]
     },
     "execution_count": 10,
     "metadata": {},
     "output_type": "execute_result"
    }
   ],
   "source": [
    "procesos_similares['Tipo de Contrato'].value_counts()"
   ]
  },
  {
   "cell_type": "markdown",
   "metadata": {},
   "source": [
    "Para elegir sólo consultorías, u otro tipo de contratos, se debe correr este código"
   ]
  },
  {
   "cell_type": "code",
   "execution_count": 55,
   "metadata": {
    "scrolled": true
   },
   "outputs": [
    {
     "data": {
      "text/html": [
       "<div>\n",
       "<style scoped>\n",
       "    .dataframe tbody tr th:only-of-type {\n",
       "        vertical-align: middle;\n",
       "    }\n",
       "\n",
       "    .dataframe tbody tr th {\n",
       "        vertical-align: top;\n",
       "    }\n",
       "\n",
       "    .dataframe thead th {\n",
       "        text-align: right;\n",
       "    }\n",
       "</style>\n",
       "<table border=\"1\" class=\"dataframe\">\n",
       "  <thead>\n",
       "    <tr style=\"text-align: right;\">\n",
       "      <th></th>\n",
       "      <th>estado_del_proceso</th>\n",
       "      <th>fecha_de_firma_del_contrato</th>\n",
       "      <th>modalidad_de_contrataci_n</th>\n",
       "      <th>nit_de_la_entidad</th>\n",
       "      <th>nivel_entidad</th>\n",
       "      <th>nom_raz_social_contratista</th>\n",
       "      <th>nombre_de_la_entidad</th>\n",
       "      <th>numero_de_proceso</th>\n",
       "      <th>numero_del_contrato</th>\n",
       "      <th>objeto_a_contratar</th>\n",
       "      <th>tipo_de_contrato</th>\n",
       "      <th>url_contrato</th>\n",
       "      <th>valor_contrato</th>\n",
       "    </tr>\n",
       "  </thead>\n",
       "  <tbody>\n",
       "    <tr>\n",
       "      <th>17224</th>\n",
       "      <td>Suspendido</td>\n",
       "      <td>2019-10-24T00:00:00.000</td>\n",
       "      <td>Concurso de méritos abierto</td>\n",
       "      <td>890900286</td>\n",
       "      <td>Territorial</td>\n",
       "      <td>INTEREL 005</td>\n",
       "      <td>DEPARTAMENTO DE ANTIOQUIA</td>\n",
       "      <td>CO1.BDOS.906442</td>\n",
       "      <td>CO1.PCCNTR.1126339</td>\n",
       "      <td>interventoria administrativa  técnica  ambien...</td>\n",
       "      <td>Interventoría</td>\n",
       "      <td>https://community.secop.gov.co/Public/Tenderin...</td>\n",
       "      <td>679943639</td>\n",
       "    </tr>\n",
       "    <tr>\n",
       "      <th>18328</th>\n",
       "      <td>Activo</td>\n",
       "      <td>2019-09-19T00:00:00.000</td>\n",
       "      <td>Concurso de méritos abierto</td>\n",
       "      <td>899999059</td>\n",
       "      <td>Nacional</td>\n",
       "      <td>Ingeniería  Consultoría y Planeación S.A. Inco...</td>\n",
       "      <td>UNIDAD ADMINISTRATIVA ESPECIAL DE AERONÁUTICA ...</td>\n",
       "      <td>CO1.BDOS.861906</td>\n",
       "      <td>CO1.PCCNTR.1090714</td>\n",
       "      <td>contratar la interventoría integral del contra...</td>\n",
       "      <td>Interventoría</td>\n",
       "      <td>https://community.secop.gov.co/Public/Tenderin...</td>\n",
       "      <td>684911696</td>\n",
       "    </tr>\n",
       "    <tr>\n",
       "      <th>39853</th>\n",
       "      <td>Modificado</td>\n",
       "      <td>2020-08-04T00:00:00.000</td>\n",
       "      <td>Contratación Directa (con ofertas)</td>\n",
       "      <td>8999990619</td>\n",
       "      <td>Territorial</td>\n",
       "      <td>UNIVERSIDAD NACIONAL DE COLOMBIA</td>\n",
       "      <td>SECRETARIA DE EDUCACION DEL DISTRITO</td>\n",
       "      <td>CO1.BDOS.1364965</td>\n",
       "      <td>CO1.PCCNTR.1738443</td>\n",
       "      <td>aunar esfuerzos técnicos  administrativos y fi...</td>\n",
       "      <td>Otro</td>\n",
       "      <td>https://community.secop.gov.co/Public/Tenderin...</td>\n",
       "      <td>810000000</td>\n",
       "    </tr>\n",
       "    <tr>\n",
       "      <th>40418</th>\n",
       "      <td>Modificado</td>\n",
       "      <td>2019-09-18T00:00:00.000</td>\n",
       "      <td>Selección Abreviada de Menor Cuantía</td>\n",
       "      <td>830027904</td>\n",
       "      <td>Nacional</td>\n",
       "      <td>INTEGRATED ENGINEERING SERVICES S.A.S</td>\n",
       "      <td>DIRECCION GENERAL MARITIMA-DIMAR</td>\n",
       "      <td>CO1.BDOS.874101</td>\n",
       "      <td>CO1.PCCNTR.1060021</td>\n",
       "      <td>contratar los servicios para la implementación...</td>\n",
       "      <td>Prestación de servicios</td>\n",
       "      <td>https://community.secop.gov.co/Public/Tenderin...</td>\n",
       "      <td>814900000</td>\n",
       "    </tr>\n",
       "    <tr>\n",
       "      <th>44326</th>\n",
       "      <td>Modificado</td>\n",
       "      <td>2017-12-28T00:00:00.000</td>\n",
       "      <td>Concurso de méritos abierto</td>\n",
       "      <td>8999990619</td>\n",
       "      <td>Territorial</td>\n",
       "      <td>UT INTERVENTORIA PMM BOGOTA</td>\n",
       "      <td>SECRETARÍA DISTRITAL DE MOVILIDAD</td>\n",
       "      <td>CO1.BDOS.238827</td>\n",
       "      <td>CO1.PCCNTR.265242</td>\n",
       "      <td>realizar la interventoría administrativa  técn...</td>\n",
       "      <td>Interventoría</td>\n",
       "      <td>https://community.secop.gov.co/Public/Tenderin...</td>\n",
       "      <td>846387488</td>\n",
       "    </tr>\n",
       "  </tbody>\n",
       "</table>\n",
       "</div>"
      ],
      "text/plain": [
       "      estado_del_proceso fecha_de_firma_del_contrato  \\\n",
       "17224         Suspendido     2019-10-24T00:00:00.000   \n",
       "18328             Activo     2019-09-19T00:00:00.000   \n",
       "39853         Modificado     2020-08-04T00:00:00.000   \n",
       "40418         Modificado     2019-09-18T00:00:00.000   \n",
       "44326         Modificado     2017-12-28T00:00:00.000   \n",
       "\n",
       "                  modalidad_de_contrataci_n nit_de_la_entidad nivel_entidad  \\\n",
       "17224           Concurso de méritos abierto         890900286   Territorial   \n",
       "18328           Concurso de méritos abierto         899999059      Nacional   \n",
       "39853    Contratación Directa (con ofertas)        8999990619   Territorial   \n",
       "40418  Selección Abreviada de Menor Cuantía         830027904      Nacional   \n",
       "44326           Concurso de méritos abierto        8999990619   Territorial   \n",
       "\n",
       "                              nom_raz_social_contratista  \\\n",
       "17224                                        INTEREL 005   \n",
       "18328  Ingeniería  Consultoría y Planeación S.A. Inco...   \n",
       "39853                   UNIVERSIDAD NACIONAL DE COLOMBIA   \n",
       "40418              INTEGRATED ENGINEERING SERVICES S.A.S   \n",
       "44326                        UT INTERVENTORIA PMM BOGOTA   \n",
       "\n",
       "                                    nombre_de_la_entidad numero_de_proceso  \\\n",
       "17224                          DEPARTAMENTO DE ANTIOQUIA   CO1.BDOS.906442   \n",
       "18328  UNIDAD ADMINISTRATIVA ESPECIAL DE AERONÁUTICA ...   CO1.BDOS.861906   \n",
       "39853               SECRETARIA DE EDUCACION DEL DISTRITO  CO1.BDOS.1364965   \n",
       "40418                   DIRECCION GENERAL MARITIMA-DIMAR   CO1.BDOS.874101   \n",
       "44326                  SECRETARÍA DISTRITAL DE MOVILIDAD   CO1.BDOS.238827   \n",
       "\n",
       "      numero_del_contrato                                 objeto_a_contratar  \\\n",
       "17224  CO1.PCCNTR.1126339  interventoria administrativa  técnica  ambien...   \n",
       "18328  CO1.PCCNTR.1090714  contratar la interventoría integral del contra...   \n",
       "39853  CO1.PCCNTR.1738443  aunar esfuerzos técnicos  administrativos y fi...   \n",
       "40418  CO1.PCCNTR.1060021  contratar los servicios para la implementación...   \n",
       "44326   CO1.PCCNTR.265242  realizar la interventoría administrativa  técn...   \n",
       "\n",
       "              tipo_de_contrato  \\\n",
       "17224            Interventoría   \n",
       "18328            Interventoría   \n",
       "39853                     Otro   \n",
       "40418  Prestación de servicios   \n",
       "44326            Interventoría   \n",
       "\n",
       "                                            url_contrato valor_contrato  \n",
       "17224  https://community.secop.gov.co/Public/Tenderin...      679943639  \n",
       "18328  https://community.secop.gov.co/Public/Tenderin...      684911696  \n",
       "39853  https://community.secop.gov.co/Public/Tenderin...      810000000  \n",
       "40418  https://community.secop.gov.co/Public/Tenderin...      814900000  \n",
       "44326  https://community.secop.gov.co/Public/Tenderin...      846387488  "
      ]
     },
     "execution_count": 55,
     "metadata": {},
     "output_type": "execute_result"
    }
   ],
   "source": [
    "procesos_similares.head()"
   ]
  },
  {
   "cell_type": "code",
   "execution_count": 37,
   "metadata": {},
   "outputs": [],
   "source": [
    "procesos_similares= procesos_similares[procesos_similares['Tipo de Contrato']=='Consultoría']"
   ]
  },
  {
   "cell_type": "markdown",
   "metadata": {},
   "source": [
    "# Paso 6: Extraer la base a Excel\n",
    "Para poder manipular de una manera más amena los porcesos similares se puede exportar la base a Excel así. Este archivo va a quedar en la carpeta indicada en paso 2"
   ]
  },
  {
   "cell_type": "code",
   "execution_count": 56,
   "metadata": {},
   "outputs": [],
   "source": [
    "#procesos_similares.to_csv('plan_maestro.xlsx')\n",
    "writer = pd.ExcelWriter(\"plan_maestrov2.xlsx\")\n",
    "procesos_similares.to_excel(excel_writer=writer, sheet_name='Sheet1', na_rep=\"\")\n",
    "\n",
    "writer.save()\n",
    "\n"
   ]
  }
 ],
 "metadata": {
  "kernelspec": {
   "display_name": "Python 3",
   "language": "python",
   "name": "python3"
  },
  "language_info": {
   "codemirror_mode": {
    "name": "ipython",
    "version": 3
   },
   "file_extension": ".py",
   "mimetype": "text/x-python",
   "name": "python",
   "nbconvert_exporter": "python",
   "pygments_lexer": "ipython3",
   "version": "3.7.1"
  }
 },
 "nbformat": 4,
 "nbformat_minor": 2
}
